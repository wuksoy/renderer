{
  "nbformat": 4,
  "nbformat_minor": 0,
  "metadata": {
    "colab": {
      "name": "Renderer.ipynb",
      "provenance": [],
      "collapsed_sections": []
    },
    "kernelspec": {
      "name": "python3",
      "display_name": "Python 3"
    }
  },
  "cells": [
    {
      "cell_type": "code",
      "metadata": {
        "id": "NKJELyxm6Tjf"
      },
      "source": [
        "# File path Function\r\n",
        "def dpath(path):\r\n",
        "  import ntpath\r\n",
        "  head, tail = ntpath.split(path)\r\n",
        "  return tail or ntpath.basename(head)"
      ],
      "execution_count": 14,
      "outputs": []
    },
    {
      "cell_type": "code",
      "metadata": {
        "id": "kac0lRNo6UVX"
      },
      "source": [
        "# Download and Install Blender: change link to preferred Blender version\r\n",
        "dl = 'https://download.blender.org/release/Blender2.91/blender-2.91.0-linux64.tar.xz'\r\n",
        "filename = dpath(dl)\r\n",
        "!wget -nc $dl\r\n",
        "!mkdir ./blender && tar xf $filename -C ./blender --strip-components 1\r\n",
        "!apt install libboost-all-dev\r\n",
        "!apt install libgl1-mesa-dev\r\n",
        "!apt install libglu1-mesa libsm-dev"
      ],
      "execution_count": null,
      "outputs": []
    },
    {
      "cell_type": "code",
      "metadata": {
        "id": "IkQ8fGXW6zML"
      },
      "source": [
        "# Connect to Google Drive\r\n",
        "from google.colab import drive\r\n",
        "drive.mount('/gdrive')"
      ],
      "execution_count": null,
      "outputs": []
    },
    {
      "cell_type": "code",
      "metadata": {
        "id": "XvelKlA685as"
      },
      "source": [
        "!sudo ./blender/blender -P gpu.py -b '/content/drive/your/blend/file.blend'  -o '/gdrive/MyDrive/rendernameprefix' -s 10 -e 25 -a"
      ],
      "execution_count": null,
      "outputs": []
    }
  ]
}